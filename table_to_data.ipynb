{
 "cells": [
  {
   "cell_type": "code",
   "execution_count": 17,
   "id": "8dd0e0da-93e1-4900-9e95-9e2047cf07da",
   "metadata": {},
   "outputs": [],
   "source": [
    "import pandas as pd\n",
    "import numpy as np\n",
    "import os"
   ]
  },
  {
   "cell_type": "code",
   "execution_count": 48,
   "id": "8800b425-3a30-4b18-a2da-be366fe27f72",
   "metadata": {},
   "outputs": [
    {
     "name": "stdout",
     "output_type": "stream",
     "text": [
      "Archivo importados\n"
     ]
    }
   ],
   "source": [
    "# Especifica la ruta de la carpeta que contiene los archivos CSV\n",
    "carpeta = 'data/'\n",
    "\n",
    "# Obtiene la lista de archivos en la carpeta\n",
    "archivos_csv = [archivo for archivo in os.listdir(carpeta) if archivo.endswith('.csv')]\n",
    "\n",
    "# Inicializa una lista para almacenar los dataframes\n",
    "lista_dataframes = []\n",
    "\n",
    "# Lee cada archivo CSV y agrega el dataframe a la lista\n",
    "for archivo in archivos_csv:\n",
    "    ruta_completa = os.path.join(carpeta, archivo)\n",
    "    df = pd.read_csv(ruta_completa, sep = \" \", header = None, names=[\"year\",\"month\",\"day\",\"pp\",\"max_temp\",\"min_temp\"])\n",
    "    df.loc[df[\"pp\"] < 0, \"pp\"] = np.nan # clean the data with Na\n",
    "    df = df.groupby(['year', 'month'])['pp'].sum().reset_index()\n",
    "\n",
    "    # Pivotar la tabla para tener meses como columnas\n",
    "    df = df.pivot_table(index='year', columns='month', values='pp', aggfunc=np.sum)\n",
    "\n",
    "    # Rename the columns\n",
    "    df.columns = ['january', 'february', 'march', 'april', 'may', 'june', 'july', 'august', 'september', 'october', 'november', 'december']\n",
    "\n",
    "    # Reemplazar NaN con -0.01\n",
    "    df = df.fillna(-0.01)\n",
    "\n",
    "    # Multiplicar por 100 y convertir a enteros (excepto la columna del año)\n",
    "    df = (df * 100).astype(int).astype(str)\n",
    "\n",
    "    # Eliminar el decimal para los valores enteros\n",
    "    df = df.applymap(lambda x: x.rstrip('.0') if '.' in x else x)\n",
    "    lista_dataframes.append(df)\n",
    "\n",
    "print(\"Archivo importados\")"
   ]
  },
  {
   "cell_type": "code",
   "execution_count": 49,
   "id": "27573dfe-c9a0-47e9-9606-cf549a7e9380",
   "metadata": {},
   "outputs": [
    {
     "name": "stdout",
     "output_type": "stream",
     "text": [
      "Function created...\n"
     ]
    }
   ],
   "source": [
    "def handle_data(data, iteration, text):\n",
    "    texto = text\n",
    "    h, w = data.shape\n",
    "    years = data.index.array\n",
    "    for row in range(h):\n",
    "        texto = texto + \"H10\"+ str(iteration) + str(years[row])\n",
    "        for col in range(w):\n",
    "            max_value = data.iloc[:,col].astype(int).max()\n",
    "            value = len(str(max_value))\n",
    "            space = \"  \"\n",
    "            n = str(data.iloc[row,col])\n",
    "            if len(n) == 2:\n",
    "                space = space * value\n",
    "            elif len(n) == 1:\n",
    "                space = space * value\n",
    "                space = space + \" \"\n",
    "            elif value > len(n):\n",
    "                resto = value - len(n)\n",
    "                space = \"  \" * resto\n",
    "                space = \"  \" + space\n",
    "            texto = texto + space + str(n)\n",
    "        texto = texto + \"\\n\"\n",
    "    return texto\n",
    "print(\"Function created...\")"
   ]
  },
  {
   "cell_type": "code",
   "execution_count": 50,
   "id": "da15da4a-2bb1-45e3-92ee-4cfddde617a3",
   "metadata": {},
   "outputs": [
    {
     "name": "stdout",
     "output_type": "stream",
     "text": [
      "completed, created file DATOS.DAT\n"
     ]
    }
   ],
   "source": [
    "texto = \"A                PRECIPITACION (MM)\\nA                CUENCA: PRUEBA (Formato para extender datos)\\nA\\nB       \"\n",
    "texto = texto + str(lista_dataframes[0].index.array[0])\n",
    "texto = texto + \"            1            1       \"\n",
    "texto = texto + str(len(lista_dataframes[0].index.array))\n",
    "texto = texto + \"           0           0            1           0           0           0\\nC\\n\"\n",
    "\n",
    "i = 1\n",
    "for data in lista_dataframes:\n",
    "    texto = handle_data(data, i, texto)\n",
    "    i = i + 1\n",
    "\n",
    "texto = texto + \"A\"\n",
    "\n",
    "with open('DATOS.DAT', 'w') as f:\n",
    "    f.write(texto)\n",
    "print(\"completed, created file DATOS.DAT\")"
   ]
  }
 ],
 "metadata": {
  "kernelspec": {
   "display_name": "Python 3 (ipykernel)",
   "language": "python",
   "name": "python3"
  },
  "language_info": {
   "codemirror_mode": {
    "name": "ipython",
    "version": 3
   },
   "file_extension": ".py",
   "mimetype": "text/x-python",
   "name": "python",
   "nbconvert_exporter": "python",
   "pygments_lexer": "ipython3",
   "version": "3.10.12"
  }
 },
 "nbformat": 4,
 "nbformat_minor": 5
}
